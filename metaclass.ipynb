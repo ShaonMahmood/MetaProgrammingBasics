{
 "cells": [
  {
   "cell_type": "code",
   "execution_count": null,
   "metadata": {},
   "outputs": [],
   "source": [
    "# metaclass Examples\n",
    "\n",
    "from functools import wraps,partial\n",
    "\n",
    "\n",
    "def debug(func=None, * , prefix=''):\n",
    "    if func is None:\n",
    "        # was not passed\n",
    "        return partial(debug, prefix=prefix)\n",
    "    \n",
    "    msg = prefix + func.__qualname__\n",
    "\n",
    "    @wraps(func)\n",
    "    def wrapper(*args, **kwargs):\n",
    "        print(msg)\n",
    "        return func(*args,**kwargs)\n",
    "    return wrapper\n",
    "\n",
    "def debugclass(cls):\n",
    "    for name, value in vars(cls).items():\n",
    "        if callable(value):\n",
    "            setattr(cls,name,debug(value))\n",
    "    return cls\n",
    "            \n",
    "    "
   ]
  }
 ],
 "metadata": {
  "kernelspec": {
   "display_name": "Python 3",
   "language": "python",
   "name": "python3"
  },
  "language_info": {
   "codemirror_mode": {
    "name": "ipython",
    "version": 3
   },
   "file_extension": ".py",
   "mimetype": "text/x-python",
   "name": "python",
   "nbconvert_exporter": "python",
   "pygments_lexer": "ipython3",
   "version": "3.7.3"
  }
 },
 "nbformat": 4,
 "nbformat_minor": 2
}
