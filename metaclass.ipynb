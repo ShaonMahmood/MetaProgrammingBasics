{
 "cells": [
  {
   "cell_type": "code",
   "execution_count": 1,
   "metadata": {},
   "outputs": [
    {
     "data": {
      "text/plain": [
       "'\\nAttribute access debug\\n\\ndef debug_attribute(cls):\\n    orig_attribute = cls.__getattribute__\\n    \\n    def __getattribute__(self,name):\\n        print(f\"Get : {name}\")\\n        return orig_attribute(self,name)\\n    cls.__getattribute__ = __getattribute__\\n    return cls\\n    \\n'"
      ]
     },
     "execution_count": 1,
     "metadata": {},
     "output_type": "execute_result"
    }
   ],
   "source": [
    "# metaclass Examples\n",
    "\n",
    "from functools import wraps,partial\n",
    "\n",
    "\n",
    "def debug(func=None, * , prefix=\"\"):\n",
    "    if func is None:\n",
    "        # was not passed\n",
    "        return partial(debug, prefix=prefix)\n",
    "    \n",
    "    msg = prefix + func.__qualname__\n",
    "\n",
    "    @wraps(func)\n",
    "    def wrapper(*args, **kwargs):\n",
    "        print(msg)\n",
    "        return func(*args,**kwargs)\n",
    "    return wrapper\n",
    "\n",
    "def debug_class_methods(cls=None, *, prefix=\"\"):\n",
    "    if cls is None:\n",
    "        return partial(debug_class_methods, prefix=prefix)\n",
    "    for key,value in vars(cls).items():\n",
    "        if callable(value):\n",
    "            setattr(cls,key,debug(value,prefix=prefix))\n",
    "    return cls\n",
    "\n",
    "\"\"\"\n",
    "Attribute access debug\n",
    "\n",
    "def debug_attribute(cls):\n",
    "    orig_attribute = cls.__getattribute__\n",
    "    \n",
    "    def __getattribute__(self,name):\n",
    "        print(f\"Get : {name}\")\n",
    "        return orig_attribute(self,name)\n",
    "    cls.__getattribute__ = __getattribute__\n",
    "    return cls\n",
    "    \n",
    "\"\"\"\n",
    "    "
   ]
  },
  {
   "cell_type": "code",
   "execution_count": 2,
   "metadata": {},
   "outputs": [],
   "source": [
    "@debug_class_methods(prefix=\"@@@\")\n",
    "class Spam:\n",
    "    def foo(self):\n",
    "        pass\n",
    "    def bar(self):\n",
    "        pass"
   ]
  },
  {
   "cell_type": "code",
   "execution_count": 3,
   "metadata": {},
   "outputs": [
    {
     "name": "stdout",
     "output_type": "stream",
     "text": [
      "@@@Spam.foo\n"
     ]
    }
   ],
   "source": [
    "s = Spam()\n",
    "s.foo()"
   ]
  },
  {
   "cell_type": "code",
   "execution_count": 4,
   "metadata": {},
   "outputs": [],
   "source": [
    "# problem of redundant declaration\n",
    "class DebugMeta(type):\n",
    "    def __new__(cls,clsname,bases,clsdict):\n",
    "        clsobj = super().__new__(cls,clsname,bases,clsdict) # goes through class hiercy\n",
    "        clsobj = debug_class_methods(clsobj)\n",
    "        return clsobj"
   ]
  },
  {
   "cell_type": "code",
   "execution_count": 5,
   "metadata": {},
   "outputs": [
    {
     "name": "stdout",
     "output_type": "stream",
     "text": [
      "Spam.foo\n"
     ]
    }
   ],
   "source": [
    "class Spam(metaclass=DebugMeta):\n",
    "    def foo(self):\n",
    "        pass\n",
    "    \n",
    "s = Spam()\n",
    "s.foo()"
   ]
  },
  {
   "cell_type": "code",
   "execution_count": 6,
   "metadata": {},
   "outputs": [],
   "source": [
    "# lets have some feel for meta programming\n",
    "# class Stock:\n",
    "#     def __init__(self, name, share, price):\n",
    "#         self.name = name\n",
    "#         self.share = share\n",
    "#         self.price = price\n",
    "        \n",
    "# class Point:\n",
    "#     def __init__(self, x, y):\n",
    "#         self.x = x\n",
    "#         self.y = y\n",
    "    \n",
    "# class Address:\n",
    "#     def __init__(self, hostname, port):\n",
    "#         self.hostname = hostname\n",
    "#         self.port = port\n",
    "        \n",
    "# problem of object initialization\n",
    "\n",
    "\n",
    "# one way to solve but with some tweaks\n",
    "# no keyword arguments\n",
    "# no argument checking\n",
    "class Structure:\n",
    "    _fields = []\n",
    "    def __init__(self,*args):\n",
    "        for name, value in  zip(self.__cls__._fields, args):\n",
    "            setattr(self, name, value)\n",
    "            \n",
    "class Stock(Structure):\n",
    "    _fields = ['name', 'share', 'price']\n",
    "    \n",
    "class Point(Structure):\n",
    "    _fields = ['x','y']\n",
    "    \n",
    "class Address(Structure):\n",
    "    _fields = ['hostname', 'port']\n",
    "\n",
    "    \n"
   ]
  },
  {
   "cell_type": "code",
   "execution_count": 7,
   "metadata": {},
   "outputs": [
    {
     "name": "stdout",
     "output_type": "stream",
     "text": [
      "(*args)\n"
     ]
    }
   ],
   "source": [
    "import inspect\n",
    "print(inspect.signature(Stock))"
   ]
  },
  {
   "cell_type": "code",
   "execution_count": null,
   "metadata": {},
   "outputs": [],
   "source": [
    "# Signatures\n",
    "from inspect import Parameter,Signature\n",
    "\n"
   ]
  }
 ],
 "metadata": {
  "kernelspec": {
   "display_name": "Python 3",
   "language": "python",
   "name": "python3"
  },
  "language_info": {
   "codemirror_mode": {
    "name": "ipython",
    "version": 3
   },
   "file_extension": ".py",
   "mimetype": "text/x-python",
   "name": "python",
   "nbconvert_exporter": "python",
   "pygments_lexer": "ipython3",
   "version": "3.7.3"
  }
 },
 "nbformat": 4,
 "nbformat_minor": 2
}
