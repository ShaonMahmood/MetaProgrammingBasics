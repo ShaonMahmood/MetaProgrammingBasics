{
 "cells": [
  {
   "cell_type": "code",
   "execution_count": 1,
   "metadata": {},
   "outputs": [
    {
     "name": "stdout",
     "output_type": "stream",
     "text": [
      "extra\n",
      "result:  6\n",
      "None\n"
     ]
    }
   ],
   "source": [
    "# Normal decorator example without arguments\n",
    "from functools import wraps,partial\n",
    "def deco(function):\n",
    "    \n",
    "    @wraps(function)\n",
    "    def wrapper(*args, **kwargs):\n",
    "        print(\"extra\")\n",
    "        function(*args, **kwargs)\n",
    "    return wrapper\n",
    "\n",
    "# can add with option @deco\n",
    "def add(a,b):\n",
    "    print(\"result: \",a + b)\n",
    "\n",
    "add = deco(add)\n",
    "print(add(2,4))"
   ]
  },
  {
   "cell_type": "code",
   "execution_count": 2,
   "metadata": {},
   "outputs": [
    {
     "name": "stdout",
     "output_type": "stream",
     "text": [
      "extra\n",
      "result:  7\n"
     ]
    }
   ],
   "source": [
    "add(3,4)"
   ]
  },
  {
   "cell_type": "code",
   "execution_count": 3,
   "metadata": {},
   "outputs": [
    {
     "data": {
      "text/plain": [
       "<function __main__.add(a, b)>"
      ]
     },
     "execution_count": 3,
     "metadata": {},
     "output_type": "execute_result"
    }
   ],
   "source": [
    "add"
   ]
  },
  {
   "cell_type": "code",
   "execution_count": 4,
   "metadata": {},
   "outputs": [],
   "source": [
    "# decorators with parameter\n",
    "# problem with it is when no parameter is passed u have to give a callable sign ()\n",
    "# calling without @ will be add = deco_param(param1=\"\",param2=\"\")(add)\n",
    "\n",
    "def deco_param(param1='',param2=''):\n",
    "    \n",
    "    def deco(function):\n",
    "        \n",
    "        @wraps(function)\n",
    "        def wrapper(*args, **kwargs):\n",
    "            msg = \"this is extra info \"\n",
    "            if param1:\n",
    "                msg = msg+param1+\" \"\n",
    "            if param2:\n",
    "                msg = msg+param2\n",
    "            print(msg)\n",
    "            return function(*args,**kwargs)\n",
    "        return wrapper\n",
    "    return deco\n",
    "\n",
    "@deco_param() # have to give () sign otherwise throughs a error\n",
    "def add1(x,y):\n",
    "    return x+y\n",
    "\n",
    "@deco_param(param1=\"number1\")\n",
    "def add2(x,y):\n",
    "    return x+y\n",
    "            \n",
    "    \n",
    "@deco_param(param1=\"number1\", param2=\"number2\")\n",
    "def add3(x,y):\n",
    "    return x+y\n",
    "\n",
    "def add4(x,y):\n",
    "    return x+y\n",
    "\n",
    "@deco_param # without a ()\n",
    "def add5(x,y):\n",
    "    return x+y\n",
    "\n",
    "add4 = deco_param(param1=\"info1\",param2=\"info2\")(add4)\n",
    "            "
   ]
  },
  {
   "cell_type": "code",
   "execution_count": 5,
   "metadata": {},
   "outputs": [
    {
     "name": "stdout",
     "output_type": "stream",
     "text": [
      "this is extra info \n"
     ]
    },
    {
     "data": {
      "text/plain": [
       "7"
      ]
     },
     "execution_count": 5,
     "metadata": {},
     "output_type": "execute_result"
    }
   ],
   "source": [
    "add1(3,4)"
   ]
  },
  {
   "cell_type": "code",
   "execution_count": 6,
   "metadata": {},
   "outputs": [
    {
     "name": "stdout",
     "output_type": "stream",
     "text": [
      "this is extra info number1 \n"
     ]
    },
    {
     "data": {
      "text/plain": [
       "7"
      ]
     },
     "execution_count": 6,
     "metadata": {},
     "output_type": "execute_result"
    }
   ],
   "source": [
    "add2(3,4)"
   ]
  },
  {
   "cell_type": "code",
   "execution_count": 7,
   "metadata": {},
   "outputs": [
    {
     "name": "stdout",
     "output_type": "stream",
     "text": [
      "this is extra info number1 number2\n"
     ]
    },
    {
     "data": {
      "text/plain": [
       "7"
      ]
     },
     "execution_count": 7,
     "metadata": {},
     "output_type": "execute_result"
    }
   ],
   "source": [
    "add3(3,4)"
   ]
  },
  {
   "cell_type": "code",
   "execution_count": 8,
   "metadata": {},
   "outputs": [
    {
     "name": "stdout",
     "output_type": "stream",
     "text": [
      "this is extra info info1 info2\n"
     ]
    },
    {
     "data": {
      "text/plain": [
       "7"
      ]
     },
     "execution_count": 8,
     "metadata": {},
     "output_type": "execute_result"
    }
   ],
   "source": [
    "add4(3,4)"
   ]
  },
  {
   "cell_type": "code",
   "execution_count": 9,
   "metadata": {},
   "outputs": [
    {
     "ename": "TypeError",
     "evalue": "deco() takes 1 positional argument but 2 were given",
     "output_type": "error",
     "traceback": [
      "\u001b[0;31m---------------------------------------------------------------------------\u001b[0m",
      "\u001b[0;31mTypeError\u001b[0m                                 Traceback (most recent call last)",
      "\u001b[0;32m<ipython-input-9-dc337b69cda2>\u001b[0m in \u001b[0;36m<module>\u001b[0;34m\u001b[0m\n\u001b[1;32m      3\u001b[0m \u001b[0;31m# the proper formet should be final_function = deco_param(parameters)(function_name)\u001b[0m\u001b[0;34m\u001b[0m\u001b[0;34m\u001b[0m\u001b[0;34m\u001b[0m\u001b[0m\n\u001b[1;32m      4\u001b[0m \u001b[0;31m# thats why the error is produced\u001b[0m\u001b[0;34m\u001b[0m\u001b[0;34m\u001b[0m\u001b[0;34m\u001b[0m\u001b[0m\n\u001b[0;32m----> 5\u001b[0;31m \u001b[0madd5\u001b[0m\u001b[0;34m(\u001b[0m\u001b[0;36m3\u001b[0m\u001b[0;34m,\u001b[0m\u001b[0;36m4\u001b[0m\u001b[0;34m)\u001b[0m\u001b[0;34m\u001b[0m\u001b[0;34m\u001b[0m\u001b[0m\n\u001b[0m",
      "\u001b[0;31mTypeError\u001b[0m: deco() takes 1 positional argument but 2 were given"
     ]
    }
   ],
   "source": [
    "# calling like add5 = deco_param(add5)(3,4)\n",
    "# deco function takes 1 argument which is a function\n",
    "# the proper formet should be final_function = deco_param(parameters)(function_name)\n",
    "# thats why the error is produced\n",
    "add5(3,4)"
   ]
  },
  {
   "cell_type": "code",
   "execution_count": 10,
   "metadata": {},
   "outputs": [],
   "source": [
    "# so for handling () problem i have modify some code like below\n",
    "\n",
    "def deco_param_version2(func=None, param1='',param2=''):\n",
    "    \n",
    "    def deco(function):\n",
    "        \n",
    "        @wraps(function)\n",
    "        def wrapper(*args, **kwargs):\n",
    "            msg = \"this is extra info \"\n",
    "            if param1:\n",
    "                msg = msg+param1+\" \"\n",
    "            if param2:\n",
    "                msg = msg+param2\n",
    "            print(msg)\n",
    "            return function(*args,**kwargs)\n",
    "        return wrapper\n",
    "    \n",
    "    # see the change here\n",
    "    if func:\n",
    "        return deco(func)\n",
    "    \n",
    "    \n",
    "    return deco\n",
    "\n",
    "@deco_param_version2() # with ()\n",
    "def add1_v2(x,y):\n",
    "    return x+y\n",
    "\n",
    "@deco_param_version2(param1=\"number1\")\n",
    "def add2_v2(x,y):\n",
    "    return x+y\n",
    "            \n",
    "    \n",
    "@deco_param_version2(param1=\"number1\", param2=\"number2\")\n",
    "def add3_v2(x,y):\n",
    "    return x+y\n",
    "\n",
    "def add4_v2(x,y):\n",
    "    return x+y\n",
    "\n",
    "@deco_param_version2 # without ()\n",
    "def add5_v2(x,y):\n",
    "    return x+y\n",
    "\n",
    "add4_v2 = deco_param(param1=\"info1\",param2=\"info2\")(add4_v2)"
   ]
  },
  {
   "cell_type": "code",
   "execution_count": 11,
   "metadata": {},
   "outputs": [
    {
     "name": "stdout",
     "output_type": "stream",
     "text": [
      "this is extra info \n"
     ]
    },
    {
     "data": {
      "text/plain": [
       "5"
      ]
     },
     "execution_count": 11,
     "metadata": {},
     "output_type": "execute_result"
    }
   ],
   "source": [
    "add1_v2(2,3)"
   ]
  },
  {
   "cell_type": "code",
   "execution_count": 12,
   "metadata": {},
   "outputs": [
    {
     "name": "stdout",
     "output_type": "stream",
     "text": [
      "this is extra info number1 \n"
     ]
    },
    {
     "data": {
      "text/plain": [
       "5"
      ]
     },
     "execution_count": 12,
     "metadata": {},
     "output_type": "execute_result"
    }
   ],
   "source": [
    "add2_v2(2,3)"
   ]
  },
  {
   "cell_type": "code",
   "execution_count": 13,
   "metadata": {},
   "outputs": [
    {
     "name": "stdout",
     "output_type": "stream",
     "text": [
      "this is extra info number1 number2\n"
     ]
    },
    {
     "data": {
      "text/plain": [
       "5"
      ]
     },
     "execution_count": 13,
     "metadata": {},
     "output_type": "execute_result"
    }
   ],
   "source": [
    "add3_v2(2,3)"
   ]
  },
  {
   "cell_type": "code",
   "execution_count": 14,
   "metadata": {},
   "outputs": [
    {
     "name": "stdout",
     "output_type": "stream",
     "text": [
      "this is extra info info1 info2\n"
     ]
    },
    {
     "data": {
      "text/plain": [
       "5"
      ]
     },
     "execution_count": 14,
     "metadata": {},
     "output_type": "execute_result"
    }
   ],
   "source": [
    "add4_v2(2,3)"
   ]
  },
  {
   "cell_type": "code",
   "execution_count": 15,
   "metadata": {},
   "outputs": [
    {
     "name": "stdout",
     "output_type": "stream",
     "text": [
      "this is extra info \n"
     ]
    },
    {
     "data": {
      "text/plain": [
       "5"
      ]
     },
     "execution_count": 15,
     "metadata": {},
     "output_type": "execute_result"
    }
   ],
   "source": [
    "add5_v2(2,3)"
   ]
  },
  {
   "cell_type": "code",
   "execution_count": 16,
   "metadata": {},
   "outputs": [],
   "source": [
    "# there is another elegant way of doing this proposed by David Beazly using partial function\n",
    "\n",
    "\n",
    "    \n",
    "def deco(function=None, *, param1='',param2=''):\n",
    "    \n",
    "    # see the change here\n",
    "    if function is None:\n",
    "        return partial(deco, param1=param1, param2=param2)\n",
    "\n",
    "    @wraps(function)\n",
    "    def wrapper(*args, **kwargs):\n",
    "        msg = \"this is extra info \"\n",
    "        if param1:\n",
    "            msg = msg+param1+\" \"\n",
    "        if param2:\n",
    "            msg = msg+param2\n",
    "        print(msg)\n",
    "        return function(*args,**kwargs)\n",
    "    return wrapper\n",
    "    \n",
    "    \n",
    "\n",
    "@deco() # with ()\n",
    "def add1_v3(x,y):\n",
    "    return x+y\n",
    "\n",
    "@deco(param1=\"number1\")\n",
    "def add2_v3(x,y):\n",
    "    return x+y\n",
    "            \n",
    "    \n",
    "@deco(param1=\"number1\", param2=\"number2\")\n",
    "def add3_v3(x,y):\n",
    "    return x+y\n",
    "\n",
    "def add4_v3(x,y):\n",
    "    return x+y\n",
    "\n",
    "@deco # without ()\n",
    "def add5_v3(x,y):\n",
    "    return x+y\n",
    "\n",
    "add4_v3 = deco(add4_v3, param1=\"info1\",param2=\"info2\")"
   ]
  },
  {
   "cell_type": "code",
   "execution_count": 17,
   "metadata": {},
   "outputs": [
    {
     "name": "stdout",
     "output_type": "stream",
     "text": [
      "this is extra info \n"
     ]
    },
    {
     "data": {
      "text/plain": [
       "5"
      ]
     },
     "execution_count": 17,
     "metadata": {},
     "output_type": "execute_result"
    }
   ],
   "source": [
    "add1_v3(2,3)"
   ]
  },
  {
   "cell_type": "code",
   "execution_count": 18,
   "metadata": {},
   "outputs": [
    {
     "name": "stdout",
     "output_type": "stream",
     "text": [
      "this is extra info number1 \n"
     ]
    },
    {
     "data": {
      "text/plain": [
       "5"
      ]
     },
     "execution_count": 18,
     "metadata": {},
     "output_type": "execute_result"
    }
   ],
   "source": [
    "add2_v3(2,3)"
   ]
  },
  {
   "cell_type": "code",
   "execution_count": 19,
   "metadata": {},
   "outputs": [
    {
     "name": "stdout",
     "output_type": "stream",
     "text": [
      "this is extra info number1 number2\n"
     ]
    },
    {
     "data": {
      "text/plain": [
       "5"
      ]
     },
     "execution_count": 19,
     "metadata": {},
     "output_type": "execute_result"
    }
   ],
   "source": [
    "add3_v3(2,3)"
   ]
  },
  {
   "cell_type": "code",
   "execution_count": 20,
   "metadata": {},
   "outputs": [
    {
     "name": "stdout",
     "output_type": "stream",
     "text": [
      "this is extra info info1 info2\n"
     ]
    },
    {
     "data": {
      "text/plain": [
       "5"
      ]
     },
     "execution_count": 20,
     "metadata": {},
     "output_type": "execute_result"
    }
   ],
   "source": [
    "add4_v3(2,3)"
   ]
  },
  {
   "cell_type": "code",
   "execution_count": 21,
   "metadata": {},
   "outputs": [
    {
     "name": "stdout",
     "output_type": "stream",
     "text": [
      "this is extra info \n"
     ]
    },
    {
     "data": {
      "text/plain": [
       "5"
      ]
     },
     "execution_count": 21,
     "metadata": {},
     "output_type": "execute_result"
    }
   ],
   "source": [
    "add5_v3(2,3)"
   ]
  },
  {
   "cell_type": "code",
   "execution_count": 25,
   "metadata": {},
   "outputs": [],
   "source": [
    "# class decorators example\n",
    "\n",
    "def debug(func=None, * , prefix=\"\"):\n",
    "    if func is None:\n",
    "        return partial(debug,prefix=prefix)\n",
    "    \n",
    "    msg = prefix + func.__qualname__\n",
    "    @wraps(func)\n",
    "    def wrapper(*args, **kwargs):\n",
    "        print(msg)\n",
    "        return func(*args, **kwargs)\n",
    "    return wrapper\n",
    "        \n",
    "        \n",
    "\n",
    "def debug_class_methods(cls=None, *, prefix=\"\"):\n",
    "    if cls is None:\n",
    "        return partial(debug_class_methods, prefix=prefix)\n",
    "    for key,value in vars(cls).items():\n",
    "        if callable(value):\n",
    "            setattr(cls,key,debug(value,prefix=prefix))\n",
    "    return cls"
   ]
  },
  {
   "cell_type": "code",
   "execution_count": 30,
   "metadata": {},
   "outputs": [],
   "source": [
    "@debug_class_methods\n",
    "class Spam:\n",
    "    def foo(self):\n",
    "        pass\n",
    "    def bar(self):\n",
    "        pass\n",
    "    \n",
    "    \n",
    "@debug_class_methods(prefix=\"@@@@@@\")\n",
    "class Spam2:\n",
    "    def a(self):\n",
    "        pass\n",
    "    def b(self):\n",
    "        pass"
   ]
  },
  {
   "cell_type": "code",
   "execution_count": 31,
   "metadata": {},
   "outputs": [
    {
     "name": "stdout",
     "output_type": "stream",
     "text": [
      "Spam.foo\n"
     ]
    }
   ],
   "source": [
    "s = Spam()\n",
    "s.foo()"
   ]
  },
  {
   "cell_type": "code",
   "execution_count": 32,
   "metadata": {},
   "outputs": [
    {
     "name": "stdout",
     "output_type": "stream",
     "text": [
      "@@@@@@Spam2.a\n"
     ]
    }
   ],
   "source": [
    "s = Spam2()\n",
    "s.a()"
   ]
  },
  {
   "cell_type": "code",
   "execution_count": 33,
   "metadata": {},
   "outputs": [],
   "source": [
    "def debug_attribute(cls):\n",
    "    orig_attribute = cls.__getattribute__\n",
    "    def __getattribute__(self,name):\n",
    "        print(f\"Get : {name}\")\n",
    "        return orig_attribute(self,name)\n",
    "    cls.__getattribute__ = __getattribute__\n",
    "    return cls\n",
    "\n",
    "@debug_attribute\n",
    "class DebugExample:\n",
    "    def __init__(self):\n",
    "        self.a = 34\n",
    "        self.b = 55\n",
    "    def foo(self):\n",
    "        pass\n"
   ]
  },
  {
   "cell_type": "code",
   "execution_count": 34,
   "metadata": {},
   "outputs": [],
   "source": [
    "s = DebugExample()"
   ]
  },
  {
   "cell_type": "code",
   "execution_count": 35,
   "metadata": {},
   "outputs": [
    {
     "name": "stdout",
     "output_type": "stream",
     "text": [
      "Get : a\n"
     ]
    },
    {
     "data": {
      "text/plain": [
       "34"
      ]
     },
     "execution_count": 35,
     "metadata": {},
     "output_type": "execute_result"
    }
   ],
   "source": [
    "s.a"
   ]
  },
  {
   "cell_type": "code",
   "execution_count": 36,
   "metadata": {},
   "outputs": [
    {
     "name": "stdout",
     "output_type": "stream",
     "text": [
      "Get : b\n"
     ]
    },
    {
     "data": {
      "text/plain": [
       "55"
      ]
     },
     "execution_count": 36,
     "metadata": {},
     "output_type": "execute_result"
    }
   ],
   "source": [
    "s.b"
   ]
  },
  {
   "cell_type": "code",
   "execution_count": 37,
   "metadata": {},
   "outputs": [
    {
     "name": "stdout",
     "output_type": "stream",
     "text": [
      "Get : foo\n"
     ]
    }
   ],
   "source": [
    "s.foo()"
   ]
  },
  {
   "cell_type": "code",
   "execution_count": null,
   "metadata": {},
   "outputs": [],
   "source": []
  }
 ],
 "metadata": {
  "kernelspec": {
   "display_name": "Python 3",
   "language": "python",
   "name": "python3"
  },
  "language_info": {
   "codemirror_mode": {
    "name": "ipython",
    "version": 3
   },
   "file_extension": ".py",
   "mimetype": "text/x-python",
   "name": "python",
   "nbconvert_exporter": "python",
   "pygments_lexer": "ipython3",
   "version": "3.7.3"
  }
 },
 "nbformat": 4,
 "nbformat_minor": 2
}
